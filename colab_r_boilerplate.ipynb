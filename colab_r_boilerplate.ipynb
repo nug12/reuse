{
  "nbformat": 4,
  "nbformat_minor": 0,
  "metadata": {
    "colab": {
      "provenance": []
    },
    "kernelspec": {
      "name": "ir",
      "display_name": "R"
    },
    "language_info": {
      "name": "R"
    }
  },
  "cells": [
    {
      "cell_type": "code",
      "execution_count": null,
      "metadata": {
        "id": "Wui0uXIeD5Ka"
      },
      "outputs": [],
      "source": [
        "install.packages(\"googledrive\")\n",
        "library(\"googledrive\")\n",
        "\n",
        "if (file.exists(\"/usr/local/lib/python3.6/dist-packages/google/colab_ipython.py\")){\n",
        "  install.packages(\"R.utils\")\n",
        "  library(\"R.utils\")\n",
        "  library(\"httr\")\n",
        "  my_check <- function() {return(TRUE)}\n",
        "  reassignInPackage(\"is_interactive\", pkgName = \"httr\", my_check)\n",
        "  options(rlang_interactive=TRUE)\n",
        "}"
      ]
    }
  ]
}